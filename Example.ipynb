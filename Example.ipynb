{
 "cells": [
  {
   "cell_type": "markdown",
   "metadata": {},
   "source": [
    "This notebook shows how the library can be used. \n",
    "First we read the videos, then we process them and finally we train a model"
   ]
  },
  {
   "cell_type": "code",
   "execution_count": 4,
   "metadata": {},
   "outputs": [],
   "source": [
    "import mediapipe as mp\n",
    "import pickle\n",
    "#from app.HandHygieneMain import *\n",
    "from app.HandHygieneMain import *\n",
    "import time\n",
    "import pandas as pd"
   ]
  },
  {
   "cell_type": "code",
   "execution_count": null,
   "metadata": {},
   "outputs": [
    {
     "name": "stderr",
     "output_type": "stream",
     "text": [
      "INFO: Created TensorFlow Lite XNNPACK delegate for CPU.\n"
     ]
    }
   ],
   "source": [
    "# GLOBAL VARIABLES\n",
    "#PATH = r'D:\\\\Proyectos\\\\Hands\\\\HigieneManos' # path to folder\n",
    "PATH = '/Users/juannquinones/Library/CloudStorage/OneDrive-ESCUELACOLOMBIANADEINGENIERIAJULIOGARAVITO/Nico/Manos/Videos-Epidemiologia'\n",
    "mp_drawing = mp.solutions.drawing_utils\n",
    "mp_drawing_styles = mp.solutions.drawing_styles\n",
    "mp_hands = mp.solutions.hands\n",
    "hands = mp_hands.Hands(model_complexity=0, min_detection_confidence=0.4, min_tracking_confidence=0.4, max_num_hands = 2,static_image_mode=True) # modelo\n",
    "# Model with all te functions ready to be used\n",
    "#hygine_model = HandHygineModel(mp_drawing,mp_drawing_styles,mp_hands,hands)\n",
    "hand_model = HandHygineModel(mp_drawing, mp_drawing_styles, mp_hands, hands, step_prediction_model=None)"
   ]
  },
  {
   "cell_type": "code",
   "execution_count": 3,
   "metadata": {},
   "outputs": [],
   "source": [
    "video_paths = get_videos_path(PATH)"
   ]
  },
  {
   "cell_type": "code",
   "execution_count": 4,
   "metadata": {},
   "outputs": [
    {
     "data": {
      "text/plain": [
       "[]"
      ]
     },
     "execution_count": 4,
     "metadata": {},
     "output_type": "execute_result"
    }
   ],
   "source": [
    "video_paths"
   ]
  },
  {
   "cell_type": "code",
   "execution_count": 4,
   "metadata": {},
   "outputs": [],
   "source": [
    "def predict_step(succes, image, mode, pipeline, return_image=True):\n",
    "    pass"
   ]
  },
  {
   "cell_type": "code",
   "execution_count": 14,
   "metadata": {},
   "outputs": [
    {
     "name": "stdout",
     "output_type": "stream",
     "text": [
      "va en el step:  1\n",
      "va en el step:  2\n",
      "va en el step:  3\n",
      "va en el step:  4\n",
      "va en el step:  5\n",
      "va en el step:  6\n",
      "va en el step:  7\n",
      "va en el step:  8\n",
      "va en el step:  9\n",
      "va en el step:  10\n",
      "acabo de procesar un video\n"
     ]
    }
   ],
   "source": [
    "points_array_deque = deque() # Para ir guardando datos en memoria\n",
    "pasos = ['1', '2','3', '4', '5','6', '7', '8', '9', '10']\n",
    "for step in pasos:\n",
    "    print('va en el step: ', step)\n",
    "    cap = cv2.VideoCapture('/Users/juannquinones/Library/CloudStorage/OneDrive-ESCUELACOLOMBIANADEINGENIERIAJULIOGARAVITO/Nico/Manos/Videos-Epidemiologia/Paso_'+str(step)+'.MOV')\n",
    "    right_hand_deque = deque() # estructura optima para ir agregando datos\n",
    "    left_hand_deque = deque() \n",
    "    image_success = True\n",
    "    while cap.isOpened() and image_success:\n",
    "        image_success, image = cap.read()\n",
    "        if not image_success:\n",
    "            break\n",
    "        success, _, right_hand_rows, left_hand_rows = hand_model.get_landmarks_structure(image_success, image, mode='video', return_image=False)\n",
    "        # if success:\n",
    "        #    cv2.imshow('Paso '+str(f[0]), image)\n",
    "        # if cv2.waitKey(5) & 0xFF == 27:\n",
    "        #    break\n",
    "\n",
    "        if success: # Solo se procesan las que tienen landmarks validos \n",
    "            if hand_model.verify_hand_rows(right_hand_rows,left_hand_rows):\n",
    "                right_hand_deque.append(hand_model.get_normalized_rows(right_hand_rows))\n",
    "                left_hand_deque.append(hand_model.get_normalized_rows(left_hand_rows))\n",
    "        \n",
    "        #print('va en el step:, ', step)\n",
    "        cv2.imshow('Prediccion', image)\n",
    "        if cv2.waitKey(5) & 0xFF == 27:\n",
    "            break\n",
    "    cap.release()\n",
    "    cv2.destroyAllWindows()\n",
    "    cv2.waitKey(1000)\n",
    "    step = float(step)\n",
    "    points_array = np.concatenate((np.array(right_hand_deque, dtype=float).reshape((len(right_hand_deque),-1)), \n",
    "                    np.array(left_hand_deque, dtype=float).reshape((len(left_hand_deque),-1)),\n",
    "                    np.ones([len(left_hand_deque),1])*step), axis=1)\n",
    "    points_array_deque.append(points_array)\n",
    "print('acabo de procesar un video')\n"
   ]
  },
  {
   "cell_type": "code",
   "execution_count": 17,
   "metadata": {},
   "outputs": [
    {
     "data": {
      "text/plain": [
       "(18262, 127)"
      ]
     },
     "execution_count": 17,
     "metadata": {},
     "output_type": "execute_result"
    }
   ],
   "source": [
    "X = np.concatenate([arr for arr in points_array_deque], axis=0) # toda la informacion de los videos queda guardada ahi\n",
    "X.shape"
   ]
  },
  {
   "cell_type": "code",
   "execution_count": 18,
   "metadata": {},
   "outputs": [
    {
     "data": {
      "text/plain": [
       "(18262, 127)"
      ]
     },
     "execution_count": 18,
     "metadata": {},
     "output_type": "execute_result"
    }
   ],
   "source": [
    "X = np.concatenate([arr for arr in points_array_deque], axis=0) # toda la informacion de los videos queda guardada ahi\n",
    "X.shape"
   ]
  },
  {
   "cell_type": "code",
   "execution_count": 19,
   "metadata": {},
   "outputs": [],
   "source": [
    "num_coords = 42\n",
    "columns = []\n",
    "for val in range(1, num_coords+1):\n",
    "    columns += ['x{}'.format(val), 'y{}'.format(val), 'z{}'.format(val)]\n",
    "columns.append('class')\n",
    "\n",
    "df_hands = pd.DataFrame(X, columns = columns)# Guardar los resultados en un dataframe para preservarlos luego"
   ]
  },
  {
   "cell_type": "code",
   "execution_count": 16,
   "metadata": {},
   "outputs": [
    {
     "data": {
      "text/plain": [
       "'/Users/juannquinones/Library/CloudStorage/OneDrive-ESCUELACOLOMBIANADEINGENIERIAJULIOGARAVITO/Nico/Manos/Videos-Epidemiologia'"
      ]
     },
     "execution_count": 16,
     "metadata": {},
     "output_type": "execute_result"
    }
   ],
   "source": [
    "PATH"
   ]
  },
  {
   "cell_type": "code",
   "execution_count": 20,
   "metadata": {},
   "outputs": [],
   "source": [
    "#df_hands.to_csv(PATH + r'\\\\Data\\\\TrainingData\\\\Points_04102024.csv', index=None)\n",
    "df_hands.to_csv('/Users/juannquinones/Library/CloudStorage/OneDrive-ESCUELACOLOMBIANADEINGENIERIAJULIOGARAVITO/Nico/Manos/HigieneManos/Data/TrainingData/Points_10102024.csv',index=None)"
   ]
  },
  {
   "cell_type": "code",
   "execution_count": 26,
   "metadata": {},
   "outputs": [
    {
     "data": {
      "text/plain": [
       "array([1. , 2.1, 2.2, 3. , 4.1, 4.2, 5.1, 5.2, 6.1, 6.2])"
      ]
     },
     "execution_count": 26,
     "metadata": {},
     "output_type": "execute_result"
    }
   ],
   "source": [
    "df_hands['class'].unique()"
   ]
  },
  {
   "cell_type": "code",
   "execution_count": 27,
   "metadata": {},
   "outputs": [],
   "source": [
    "valores_unicos = [1.0, 2.1, 2.2, 3.0, 4.1, 4.2, 5.1, 5.2, 6.1, 6.2]"
   ]
  },
  {
   "cell_type": "code",
   "execution_count": 28,
   "metadata": {},
   "outputs": [
    {
     "data": {
      "text/plain": [
       "{1.0: 1,\n",
       " 2.1: 2,\n",
       " 2.2: 3,\n",
       " 3.0: 4,\n",
       " 4.1: 5,\n",
       " 4.2: 6,\n",
       " 5.1: 7,\n",
       " 5.2: 8,\n",
       " 6.1: 9,\n",
       " 6.2: 10}"
      ]
     },
     "execution_count": 28,
     "metadata": {},
     "output_type": "execute_result"
    }
   ],
   "source": [
    "mapeo = {valor: idx + 1 for idx, valor in enumerate(valores_unicos)}\n",
    "mapeo"
   ]
  },
  {
   "cell_type": "code",
   "execution_count": 29,
   "metadata": {},
   "outputs": [],
   "source": [
    "\n",
    "df_hands['class'] = df_hands['class'].map(mapeo)"
   ]
  },
  {
   "cell_type": "code",
   "execution_count": 30,
   "metadata": {},
   "outputs": [
    {
     "data": {
      "text/plain": [
       "array([ 1,  2,  3,  4,  5,  6,  7,  8,  9, 10])"
      ]
     },
     "execution_count": 30,
     "metadata": {},
     "output_type": "execute_result"
    }
   ],
   "source": [
    "df_hands['class'].unique()"
   ]
  },
  {
   "cell_type": "markdown",
   "metadata": {},
   "source": [
    "# Model Training\n",
    "\n",
    "Only Random Forest and LR will be used, it is immportant to evaluate the time during the inference"
   ]
  },
  {
   "cell_type": "code",
   "execution_count": 5,
   "metadata": {},
   "outputs": [],
   "source": [
    "from sklearn.model_selection import train_test_split, GridSearchCV\n",
    "from sklearn.preprocessing import StandardScaler\n",
    "from sklearn.ensemble import RandomForestClassifier\n",
    "from sklearn.linear_model import LogisticRegression\n",
    "from sklearn.pipeline import Pipeline\n",
    "from sklearn.metrics import accuracy_score, classification_report, confusion_matrix, precision_score, recall_score, f1_score\n",
    "from sklearn.svm import SVC\n",
    "import matplotlib.pyplot as plt\n",
    "import pandas as pd\n",
    "from joblib import dump\n",
    "import csv\n",
    "import pickle\n",
    "import tracemalloc\n"
   ]
  },
  {
   "cell_type": "code",
   "execution_count": 22,
   "metadata": {},
   "outputs": [],
   "source": [
    "def get_model_components(model):\n",
    "    '''\n",
    "    Define and return the pipeline and param_grid for a given model.\n",
    "    Parameters\n",
    "    ----------\n",
    "    model: str\n",
    "        Choose the model ('lr', 'rf', 'svm') for Logistic Regression, Random Forest and Support Vector Machine, respectively.\n",
    "    Returns\n",
    "    -------\n",
    "    pipeline : sklearn.pipeline.Pipeline\n",
    "        The pipeline for the specified model.\n",
    "    param_grid : dict\n",
    "        The hyperparameter grid for the specified model.\n",
    "    '''\n",
    "    # Create pipelines with StandardScaler, Logistic Regression, and Random Forest\n",
    "    # Define hyperparameter grids for GridSearchCV\n",
    "    if model == 'lr':\n",
    "        pipeline = Pipeline([\n",
    "            ('scaler', StandardScaler()),\n",
    "            ('classifier', LogisticRegression())\n",
    "        ])\n",
    "        param_grid = {\n",
    "            'classifier__max_iter': [5000],\n",
    "            'classifier__C': [0.001, 0.01, 0.1, 1, 10, 100, 1000],\n",
    "        }\n",
    "\n",
    "    elif model == 'rf':\n",
    "        pipeline = Pipeline([\n",
    "            ('scaler', StandardScaler()),\n",
    "            ('classifier', RandomForestClassifier())\n",
    "        ])\n",
    "        #print(pipeline.get_params())\n",
    "        param_grid = {\n",
    "            'classifier__n_estimators': [5, 10, 15],\n",
    "            'classifier__max_features': ['sqrt', 'log2',None],\n",
    "            'classifier__max_depth': [None, 5, 10],\n",
    "            'classifier__bootstrap': [False, True],\n",
    "            'classifier__min_samples_leaf': [1,2,4],\n",
    "            'classifier__min_samples_split': [2,5,10],\n",
    "            \n",
    "        }\n",
    "\n",
    "    elif model == 'svm':\n",
    "        pipeline = Pipeline([\n",
    "            ('scaler', StandardScaler()),\n",
    "            ('classifier', SVC())\n",
    "        ])\n",
    "        param_grid = {\n",
    "            'classifier__C': [0.1, 1, 10],\n",
    "            'classifier__kernel': ['linear', 'rbf', 'poly'],\n",
    "            'classifier__gamma': [0.1, 1, 10],\n",
    "            'classifier__degree': [2, 3, 4],\n",
    "            'classifier__coef0': [0.0, 1.0, 2.0],\n",
    "        }\n",
    "    else:\n",
    "        raise ValueError(\"Invalid model. Choose from 'lr', 'rf', 'svm'.\")\n",
    "\n",
    "    return pipeline, param_grid"
   ]
  },
  {
   "cell_type": "code",
   "execution_count": 23,
   "metadata": {},
   "outputs": [],
   "source": [
    "def train_model(df_hands, model, version_name=''):\n",
    "    '''\n",
    "    Train a model between Logistic Regression, Random Forest, Super Vector Machine\n",
    "    Parameters\n",
    "    ----------\n",
    "    path : numpy.ndarray\n",
    "        file containing hand landmarks\n",
    "    model: str\n",
    "        Choose the model ('lr', 'rf', 'svm') for Logistic Regression, Random Forest and Support Vector Machine, respectively.\n",
    "    Returns\n",
    "    ----------\n",
    "\n",
    "    '''\n",
    "    X = df_hands.drop('class',axis=1)\n",
    "    y = df_hands['class']\n",
    "    X_train, X_test, y_train, y_test = train_test_split(X, y, test_size=0.2, random_state=42)\n",
    "    pipeline, param_grid = get_model_components(model)\n",
    "    # Perform GridSearchCV for the model\n",
    "    grid_search = GridSearchCV(pipeline, param_grid, cv=5, scoring='accuracy', n_jobs = 4)\n",
    "    grid_search.fit(X_train, y_train)\n",
    "    print(\"Best Hyperparameters for\",model,\" are: \",  grid_search.best_params_)\n",
    "\n",
    "    best_model = grid_search.best_estimator_\n",
    "    y_pred = best_model.predict(X_test)\n",
    "    print(\"\\n\", model, \" Results:\")\n",
    "    print(\"Accuracy:\", accuracy_score(y_test, y_pred))\n",
    "    print(\"Classification Report:\\n\", classification_report(y_test, y_pred))\n",
    "    \n",
    "    # Retrain the model\n",
    "    best_model.fit(X,y)\n",
    "    \n",
    "    \n",
    "    with open(str(model)+ version_name + '.pkl', 'wb') as model_file:\n",
    "        pickle.dump(best_model, model_file)\n",
    "    #dump(grid_search, str(model)+'.pkl')\n",
    "    print(f\"Model saved as {model}.pkl\")\n",
    "    \n",
    "    return best_model\n"
   ]
  },
  {
   "cell_type": "code",
   "execution_count": 37,
   "metadata": {},
   "outputs": [
    {
     "name": "stdout",
     "output_type": "stream",
     "text": [
      "All test results saved.\n"
     ]
    }
   ],
   "source": [
    "def measure_inference_time(model, X_test):\n",
    "    start_time = time.time()\n",
    "    model.predict(X_test)\n",
    "    end_time = time.time()\n",
    "    general_time = end_time - start_time\n",
    "\n",
    "    v_times=np.zeros(X_test.shape[0], dtype=np.float64)\n",
    "    v_memory=np.zeros(X_test.shape[0], dtype=np.float64)\n",
    "    v_memory_peak=np.zeros(X_test.shape[0], dtype=np.float64)\n",
    "\n",
    "    for i in range(X_test.shape[0]):\n",
    "        tracemalloc.start()\n",
    "        start_time = time.time()\n",
    "        #model.predict(X_test[i].reshape(1, -1))\n",
    "        model.predict(X_test.iloc[i:i+1])\n",
    "        end_time = time.time()\n",
    "        current, peak = tracemalloc.get_traced_memory()\n",
    "        v_memory[i] = current / 10**3 # Convertir a megabytes\n",
    "        v_memory_peak[i] = peak / 10**3  # Convertir a megabytes\n",
    "        tracemalloc.stop()\n",
    "        \n",
    "        # Detener el rastreo de memoria\n",
    "        tracemalloc.stop()\n",
    "        v_times[i] = end_time - start_time\n",
    "\n",
    "    return general_time, v_times.mean(), v_memory.mean(), v_memory_peak.mean()\n",
    "\n",
    "def generate_test_results(model, X_test, y_test, model_name):\n",
    "    y_pred = model.predict(X_test)\n",
    "    inference_time, individual_inference_time, individual_memory_used, max_individual_memory_used = measure_inference_time(model, X_test)\n",
    "    \n",
    "    # Save confusion matrix for test results\n",
    "    #save_confusion_matrix(y_test, y_pred, model_name)\n",
    "\n",
    "    test_results_df = pd.DataFrame({\n",
    "        'Model': [model_name],\n",
    "        'Accuracy': [round(accuracy_score(y_test, y_pred), 3)],\n",
    "        'Precision': [round(precision_score(y_test, y_pred, average='weighted'), 3)],\n",
    "        'Recall': [round(recall_score(y_test, y_pred, average='weighted'), 3)],\n",
    "        'F1-Score': [round(f1_score(y_test, y_pred, average='weighted'), 3)],\n",
    "        'Inference Time (seconds)': [round(inference_time, 3)], \n",
    "        'Mean Frame Inference Time (seconds)': [round(individual_inference_time, 3)], \n",
    "        'Mean Memory Used (KiloBytes)': [round(individual_memory_used, 3)], \n",
    "        'Mean Max Memory Used (KiloBytes)': [round(max_individual_memory_used, 3)], \n",
    "    })\n",
    "\n",
    "    return test_results_df\n",
    "\n",
    "\n",
    "model_files = ['Data/Models/lr_10102024.pkl', 'Data/Models/rf_10102024.pkl', 'Data/Models/svm_10102024.pkl']\n",
    "models = ['LR', 'RF', 'SVM']\n",
    "df_hands = pd.read_csv('Data/TrainingData/Points_10102024.csv')\n",
    "y = df_hands['class']\n",
    "X = df_hands.drop('class', axis=1)\n",
    "X_train, X_test, y_train, y_test = train_test_split(X, y, test_size=0.2, random_state=42)\n",
    "results_df = pd.DataFrame({'True Label': y_test})\n",
    "#df_hands.to_csv(PATH + r'\\\\Data\\\\TrainingData\\\\Points_06032024.csv', index=None)\n",
    "\n",
    "\n",
    "\n",
    "\n",
    "\n",
    "test_results_list = []\n",
    "for model_file, model_name in zip(model_files, models):\n",
    "    with open(model_file, 'rb') as file:\n",
    "        trained_model =pickle.load(file)\n",
    "    #y_pred = trained_model.predict(X_test)\n",
    "    #results_df[f'Predicted {model_name}'] = y_pred\n",
    "    #y_test.append(y_test)\n",
    "    #y_pred.append(y_pred)\n",
    "    test_results_df = generate_test_results(trained_model, X_test, y_test, model_name)\n",
    "    test_results_list.append(test_results_df)\n",
    "\n",
    "# Concatenar resultados\n",
    "#final_train_results_df = pd.concat(training_results, ignore_index=True)\n",
    "\n",
    "#final_test_results_df = pd.concat(test_results, ignore_index=True)\n",
    "\n",
    "# Guardar resultados en CSV\n",
    "\n",
    "#final_train_results_df.to_csv('training_results.csv', index=False)\n",
    "final_test_results_df = pd.concat(test_results_list, ignore_index=True)\n",
    "final_test_results_df.to_csv('test_results_11101024.csv', index=False)\n",
    "\n",
    "print(\"All test results saved.\")"
   ]
  },
  {
   "cell_type": "code",
   "execution_count": 39,
   "metadata": {},
   "outputs": [
    {
     "name": "stdout",
     "output_type": "stream",
     "text": [
      "Confusion matrix saved for LR.\n",
      "Confusion matrix saved for RF.\n",
      "Confusion matrix saved for SVM.\n",
      "Matrices de confusión guardadas individualmente.\n"
     ]
    }
   ],
   "source": [
    "import matplotlib.pyplot as plt\n",
    "import seaborn as sns\n",
    "from sklearn.metrics import confusion_matrix\n",
    "import pandas as pd\n",
    "import pickle\n",
    "from sklearn.model_selection import train_test_split\n",
    "\n",
    "# Función para cargar modelos y generar predicciones\n",
    "def load_and_predict(model_file, X_test):\n",
    "    with open(model_file, 'rb') as file:\n",
    "        trained_model = pickle.load(file)\n",
    "    y_pred = trained_model.predict(X_test)\n",
    "    return y_pred\n",
    "\n",
    "# Cargar datos\n",
    "df_hands = pd.read_csv('Data/TrainingData/Points_10102024.csv')\n",
    "X = df_hands.drop('class', axis=1)\n",
    "y = df_hands['class']\n",
    "X_train, X_test, y_train, y_test = train_test_split(X, y, test_size=0.2, random_state=42)\n",
    "\n",
    "# Archivos de modelos y nombres de modelos\n",
    "model_files = ['Data/Models/lr_10102024.pkl', 'Data/Models/rf_10102024.pkl', 'Data/Models/svm_10102024.pkl']\n",
    "models = ['LR', 'RF', 'SVM']\n",
    "\n",
    "# DataFrames para almacenar las etiquetas verdaderas y las predicciones\n",
    "results_df = pd.DataFrame({'True Label': y_test})\n",
    "\n",
    "# Generar predicciones y almacenarlas en el DataFrame\n",
    "for model_file, model_name in zip(model_files, models):\n",
    "    y_pred = load_and_predict(model_file, X_test)\n",
    "    results_df[f'Predicted {model_name}'] = y_pred\n",
    "\n",
    "# Función para visualizar y guardar las matrices de confusión individualmente\n",
    "def save_confusion_matrix(y_test, y_pred, model_name):\n",
    "    cm = confusion_matrix(y_test, y_pred)\n",
    "    plt.figure(figsize=(7, 5))\n",
    "    sns.heatmap(cm, annot=True, fmt='d', cmap='Blues', annot_kws={\"size\": 12, \"weight\": \"bold\"}, xticklabels=labels, yticklabels=labels)  # Ajustes para números grandes y en negrita\n",
    "    plt.xticks(rotation=45, ha=\"right\", fontsize=12)\n",
    "    plt.xlabel('Predicted', fontsize=12, fontweight='bold')  # Ajuste para el nombre del eje x en negrita\n",
    "    plt.ylabel('True', fontsize=12, fontweight='bold')  # Ajuste para el nombre del eje y en negrita\n",
    "    plt.title(f'Confusion Matrix for {model_name}', fontsize=14)\n",
    "    plt.tight_layout() \n",
    "    plt.savefig(f'{model_name}_confusion_matrix.png')\n",
    "    plt.close()\n",
    "    print(f\"Confusion matrix saved for {model_name}.\")\n",
    "\n",
    "labels = ['Step_1','Step_2.1', 'Step_2.2', 'Step_3.0', 'Step_4.1', 'Step_4.2', 'Step_5.1', 'Step_5.2', 'Step_6.1', 'Step_6.2']\n",
    "# Guardar las matrices de confusión para cada modelo\n",
    "for model_name in models:\n",
    "    y_pred = results_df[f'Predicted {model_name}']\n",
    "    save_confusion_matrix(y_test, y_pred, model_name)\n",
    "\n",
    "print(\"Matrices de confusión guardadas individualmente.\")\n"
   ]
  },
  {
   "cell_type": "code",
   "execution_count": 35,
   "metadata": {},
   "outputs": [
    {
     "data": {
      "text/html": [
       "<div>\n",
       "<style scoped>\n",
       "    .dataframe tbody tr th:only-of-type {\n",
       "        vertical-align: middle;\n",
       "    }\n",
       "\n",
       "    .dataframe tbody tr th {\n",
       "        vertical-align: top;\n",
       "    }\n",
       "\n",
       "    .dataframe thead th {\n",
       "        text-align: right;\n",
       "    }\n",
       "</style>\n",
       "<table border=\"1\" class=\"dataframe\">\n",
       "  <thead>\n",
       "    <tr style=\"text-align: right;\">\n",
       "      <th></th>\n",
       "      <th>True Label</th>\n",
       "      <th>Predicted LR</th>\n",
       "      <th>Predicted RF</th>\n",
       "      <th>Predicted SVM</th>\n",
       "    </tr>\n",
       "  </thead>\n",
       "  <tbody>\n",
       "    <tr>\n",
       "      <th>4484</th>\n",
       "      <td>3.0</td>\n",
       "      <td>3.0</td>\n",
       "      <td>3.0</td>\n",
       "      <td>3.0</td>\n",
       "    </tr>\n",
       "    <tr>\n",
       "      <th>8360</th>\n",
       "      <td>5.0</td>\n",
       "      <td>5.0</td>\n",
       "      <td>5.0</td>\n",
       "      <td>5.0</td>\n",
       "    </tr>\n",
       "    <tr>\n",
       "      <th>11082</th>\n",
       "      <td>7.0</td>\n",
       "      <td>7.0</td>\n",
       "      <td>7.0</td>\n",
       "      <td>7.0</td>\n",
       "    </tr>\n",
       "    <tr>\n",
       "      <th>3302</th>\n",
       "      <td>2.0</td>\n",
       "      <td>2.0</td>\n",
       "      <td>2.0</td>\n",
       "      <td>2.0</td>\n",
       "    </tr>\n",
       "    <tr>\n",
       "      <th>8409</th>\n",
       "      <td>5.0</td>\n",
       "      <td>5.0</td>\n",
       "      <td>5.0</td>\n",
       "      <td>5.0</td>\n",
       "    </tr>\n",
       "    <tr>\n",
       "      <th>...</th>\n",
       "      <td>...</td>\n",
       "      <td>...</td>\n",
       "      <td>...</td>\n",
       "      <td>...</td>\n",
       "    </tr>\n",
       "    <tr>\n",
       "      <th>9361</th>\n",
       "      <td>6.0</td>\n",
       "      <td>6.0</td>\n",
       "      <td>6.0</td>\n",
       "      <td>6.0</td>\n",
       "    </tr>\n",
       "    <tr>\n",
       "      <th>12492</th>\n",
       "      <td>7.0</td>\n",
       "      <td>7.0</td>\n",
       "      <td>7.0</td>\n",
       "      <td>7.0</td>\n",
       "    </tr>\n",
       "    <tr>\n",
       "      <th>12366</th>\n",
       "      <td>7.0</td>\n",
       "      <td>7.0</td>\n",
       "      <td>7.0</td>\n",
       "      <td>7.0</td>\n",
       "    </tr>\n",
       "    <tr>\n",
       "      <th>8900</th>\n",
       "      <td>5.0</td>\n",
       "      <td>5.0</td>\n",
       "      <td>5.0</td>\n",
       "      <td>5.0</td>\n",
       "    </tr>\n",
       "    <tr>\n",
       "      <th>6848</th>\n",
       "      <td>4.0</td>\n",
       "      <td>4.0</td>\n",
       "      <td>4.0</td>\n",
       "      <td>4.0</td>\n",
       "    </tr>\n",
       "  </tbody>\n",
       "</table>\n",
       "<p>3653 rows × 4 columns</p>\n",
       "</div>"
      ],
      "text/plain": [
       "       True Label  Predicted LR  Predicted RF  Predicted SVM\n",
       "4484          3.0           3.0           3.0            3.0\n",
       "8360          5.0           5.0           5.0            5.0\n",
       "11082         7.0           7.0           7.0            7.0\n",
       "3302          2.0           2.0           2.0            2.0\n",
       "8409          5.0           5.0           5.0            5.0\n",
       "...           ...           ...           ...            ...\n",
       "9361          6.0           6.0           6.0            6.0\n",
       "12492         7.0           7.0           7.0            7.0\n",
       "12366         7.0           7.0           7.0            7.0\n",
       "8900          5.0           5.0           5.0            5.0\n",
       "6848          4.0           4.0           4.0            4.0\n",
       "\n",
       "[3653 rows x 4 columns]"
      ]
     },
     "execution_count": 35,
     "metadata": {},
     "output_type": "execute_result"
    }
   ],
   "source": [
    "results_df"
   ]
  },
  {
   "cell_type": "code",
   "execution_count": 7,
   "metadata": {},
   "outputs": [],
   "source": [
    "#df_hands = pd.read_csv(PATH + r'\\\\Data\\\\TrainingData\\\\Points_21012024.csv')\n",
    "df_hands=pd.read_csv('/Users/juannquinones/Library/CloudStorage/OneDrive-ESCUELACOLOMBIANADEINGENIERIAJULIOGARAVITO/Nico/Manos/HigieneManos/Data/TrainingData/Points_040102024.csv')"
   ]
  },
  {
   "cell_type": "code",
   "execution_count": 26,
   "metadata": {},
   "outputs": [
    {
     "name": "stdout",
     "output_type": "stream",
     "text": [
      "Best Hyperparameters for svm  are:  {'classifier__C': 0.1, 'classifier__coef0': 2.0, 'classifier__degree': 2, 'classifier__gamma': 0.1, 'classifier__kernel': 'poly'}\n",
      "\n",
      " svm  Results:\n",
      "Accuracy: 0.9986312619764577\n",
      "Classification Report:\n",
      "               precision    recall  f1-score   support\n",
      "\n",
      "         1.0       0.99      1.00      1.00       351\n",
      "         2.0       1.00      1.00      1.00       363\n",
      "         3.0       1.00      1.00      1.00       354\n",
      "         4.0       1.00      1.00      1.00       350\n",
      "         5.0       1.00      1.00      1.00       395\n",
      "         6.0       1.00      1.00      1.00       366\n",
      "         7.0       1.00      1.00      1.00       365\n",
      "         8.0       1.00      1.00      1.00       379\n",
      "         9.0       1.00      1.00      1.00       366\n",
      "        10.0       1.00      1.00      1.00       364\n",
      "\n",
      "    accuracy                           1.00      3653\n",
      "   macro avg       1.00      1.00      1.00      3653\n",
      "weighted avg       1.00      1.00      1.00      3653\n",
      "\n",
      "Model saved as svm.pkl\n"
     ]
    }
   ],
   "source": [
    "#best_model_rf = train_model(df_hands, \"rf\", version_name='_10102024')\n",
    "#best_model_lr = train_model(df_hands, \"lr\", version_name='_10102024')\n",
    "best_model_svm = train_model(df_hands, \"svm\", version_name='_10102024')"
   ]
  },
  {
   "cell_type": "markdown",
   "metadata": {},
   "source": [
    "# Real Time"
   ]
  },
  {
   "cell_type": "code",
   "execution_count": 2,
   "metadata": {},
   "outputs": [],
   "source": [
    "import warnings\n",
    "from app.HandHygieneMain import *\n",
    "warnings.filterwarnings(\"ignore\")"
   ]
  },
  {
   "cell_type": "code",
   "execution_count": 3,
   "metadata": {},
   "outputs": [
    {
     "ename": "NameError",
     "evalue": "name 'tracemalloc' is not defined",
     "output_type": "error",
     "traceback": [
      "\u001b[1;31m---------------------------------------------------------------------------\u001b[0m",
      "\u001b[1;31mNameError\u001b[0m                                 Traceback (most recent call last)",
      "Cell \u001b[1;32mIn[3], line 27\u001b[0m\n\u001b[0;32m     24\u001b[0m image_success \u001b[38;5;241m=\u001b[39m \u001b[38;5;28;01mTrue\u001b[39;00m\n\u001b[0;32m     25\u001b[0m hand_model \u001b[38;5;241m=\u001b[39m HandHygineModel(mp_drawing, mp_drawing_styles, mp_hands, hands, step_prediction_model\u001b[38;5;241m=\u001b[39mmodelo)\n\u001b[1;32m---> 27\u001b[0m \u001b[43mtracemalloc\u001b[49m\u001b[38;5;241m.\u001b[39mstart()\n\u001b[0;32m     28\u001b[0m memory_usage_before \u001b[38;5;241m=\u001b[39m np\u001b[38;5;241m.\u001b[39mzeros(dtype\u001b[38;5;241m=\u001b[39mnp\u001b[38;5;241m.\u001b[39mfloat64)\n\u001b[0;32m     29\u001b[0m memory_usage_after \u001b[38;5;241m=\u001b[39m np\u001b[38;5;241m.\u001b[39mzeros( dtype\u001b[38;5;241m=\u001b[39mnp\u001b[38;5;241m.\u001b[39mfloat64)\n",
      "\u001b[1;31mNameError\u001b[0m: name 'tracemalloc' is not defined"
     ]
    }
   ],
   "source": [
    "MODEL_PATH = r'D:\\\\Proyectos\\\\Hands\\\\HigieneManos\\\\Data\\\\Models\\\\rf_5es_98acc.pkl'\n",
    "#MODEL_PATH ='/Users/juannquinones/Library/CloudStorage/OneDrive-ESCUELACOLOMBIANADEINGENIERIAJULIOGARAVITO/Nico/Manos/HigieneManos/Data/Models/rf_260624.pkl'\n",
    "#MODEL_PATH ='rf_5es_98acc.pkl'\n",
    "with open(MODEL_PATH, 'rb') as file:\n",
    "    modelo = pickle.load(file)\n",
    "\n",
    "\n",
    "#cap = cv2.VideoCapture(0)\n",
    "cap = cv2.VideoCapture('/Users/juannquinones/Library/CloudStorage/OneDrive-ESCUELACOLOMBIANADEINGENIERIAJULIOGARAVITO/Nico/Manos/ZenodoDec29-2021/ ZenodoDec29-2021/Interface_number_1/Videos/2021-06-30_09-56-19-11labots.mp4')\n",
    "# Set video properties for optimal performance\n",
    "cap.set(cv2.CAP_PROP_FPS, 40)\n",
    "cap.set(cv2.CAP_PROP_BUFFERSIZE, 1)\n",
    "\n",
    "step_id =[1,2,3,4,5,6,'No Step']\n",
    "step_time =[0,0,0,0,0,0,0]\n",
    "video_start_time = time.time()\n",
    "last_prediction = None\n",
    "y=None\n",
    "\n",
    "mp_drawing = mp.solutions.drawing_utils\n",
    "mp_drawing_styles = mp.solutions.drawing_styles\n",
    "mp_hands = mp.solutions.hands\n",
    "hands = mp_hands.Hands(model_complexity=0, min_detection_confidence=0.4, min_tracking_confidence=0.4, max_num_hands = 2,static_image_mode=True) # modelo\n",
    "image_success = True\n",
    "hand_model = HandHygineModel(mp_drawing, mp_drawing_styles, mp_hands, hands, step_prediction_model=modelo)\n",
    "\n",
    "tracemalloc.start()\n",
    "memory_usage_before = np.zeros(dtype=np.float64)\n",
    "memory_usage_after = np.zeros( dtype=np.float64)\n",
    "inference_times = np.zeros(dtype=np.float64)\n",
    "\n",
    "while cap.isOpened() and image_success:\n",
    "    image_success, image = cap.read()\n",
    "    success, _, right_hand_rows, left_hand_rows = hand_model.get_landmarks_structure(success=image_success, image = image, mode='capture', return_image=True)\n",
    "\n",
    "    if success: # Solo se procesan las que tienen landmarks validos \n",
    "        if hand_model.verify_hand_rows(right_hand_rows,left_hand_rows):\n",
    "            X = np.concatenate([hand_model.get_normalized_rows(right_hand_rows), hand_model.get_normalized_rows(left_hand_rows)], axis=0).reshape(42*3) \n",
    "            start_time_inference = time.time()\n",
    "            current, peak = tracemalloc.get_traced_memory()\n",
    "            y = hand_model.predict_hygiene_step(X.reshape(1,-1))\n",
    "            end_time_inference = time.time()\n",
    "            inference_time = end_time_inference - start_time_inference\n",
    "            current_memory_after, peak_memory = tracemalloc.get_traced_memory()\n",
    "\n",
    "            inference_times.append(inference_time)\n",
    "            memory_usage_before.append((current) / 10**6)\n",
    "            memory_usage_after.append((current_memory_after) / 10**6) \n",
    "            if y != last_prediction:\n",
    "                end_time = time.time()\n",
    "                duration = end_time - video_start_time\n",
    "                if last_prediction is None:\n",
    "                    step_time[-1] += duration\n",
    "                else:\n",
    "                    step_time[last_prediction]+= duration\n",
    "                last_prediction =y\n",
    "                video_start_time = end_time\n",
    "        cv2.putText(image, f\"Step: {y}\", (10, 60), cv2.FONT_HERSHEY_SIMPLEX, 2.5, (255, 255, 255), 2)\n",
    "        cv2.imshow('Hand step clasiffication in Real Time', image)\n",
    "\n",
    "\n",
    "        #cv2.putText(image, str(round(y[0],1)), (10,40), cv2.FONT_HERSHEY_SIMPLEX, 1, (255, 255, 255), 2, cv2.LINE_AA)\n",
    "        #cv2.imshow('Paso 1', image)\n",
    "    \n",
    "    if cv2.waitKey(5) & 0xFF == 27:\n",
    "        break\n",
    "print('vector de tiempos',step_time)\n",
    "cap.release()\n",
    "cv2.destroyAllWindows()\n"
   ]
  },
  {
   "cell_type": "code",
   "execution_count": 9,
   "metadata": {},
   "outputs": [
    {
     "name": "stdout",
     "output_type": "stream",
     "text": [
      "tiempo total 32.00972008705139\n"
     ]
    }
   ],
   "source": [
    "print('tiempo total', sum(step_time))"
   ]
  },
  {
   "cell_type": "code",
   "execution_count": 16,
   "metadata": {},
   "outputs": [
    {
     "data": {
      "text/plain": [
       "0.0015025705843277975"
      ]
     },
     "execution_count": 16,
     "metadata": {},
     "output_type": "execute_result"
    }
   ],
   "source": [
    "sum(inference_times) / len(inference_times)\n"
   ]
  },
  {
   "cell_type": "code",
   "execution_count": 17,
   "metadata": {},
   "outputs": [
    {
     "data": {
      "text/plain": [
       "4.311667780023779"
      ]
     },
     "execution_count": 17,
     "metadata": {},
     "output_type": "execute_result"
    }
   ],
   "source": [
    "sum(memory_usage_before) / len(memory_usage_before)\n"
   ]
  },
  {
   "cell_type": "code",
   "execution_count": 18,
   "metadata": {},
   "outputs": [
    {
     "data": {
      "text/plain": [
       "4.31418941141498"
      ]
     },
     "execution_count": 18,
     "metadata": {},
     "output_type": "execute_result"
    },
    {
     "ename": "",
     "evalue": "",
     "output_type": "error",
     "traceback": [
      "\u001b[1;31mThe Kernel crashed while executing code in the the current cell or a previous cell. Please review the code in the cell(s) to identify a possible cause of the failure. Click <a href='https://aka.ms/vscodeJupyterKernelCrash'>here</a> for more info. View Jupyter <a href='command:jupyter.viewOutput'>log</a> for further details."
     ]
    }
   ],
   "source": [
    "sum(memory_usage_after) / len(memory_usage_after)"
   ]
  },
  {
   "cell_type": "markdown",
   "metadata": {},
   "source": [
    "# Visual Example"
   ]
  },
  {
   "cell_type": "code",
   "execution_count": 6,
   "metadata": {},
   "outputs": [],
   "source": [
    "%matplotlib widget"
   ]
  },
  {
   "cell_type": "code",
   "execution_count": 7,
   "metadata": {},
   "outputs": [
    {
     "ename": "NameError",
     "evalue": "name 'video_paths' is not defined",
     "output_type": "error",
     "traceback": [
      "\u001b[1;31m---------------------------------------------------------------------------\u001b[0m",
      "\u001b[1;31mNameError\u001b[0m                                 Traceback (most recent call last)",
      "Cell \u001b[1;32mIn[7], line 2\u001b[0m\n\u001b[0;32m      1\u001b[0m points_array_deque \u001b[38;5;241m=\u001b[39m deque() \u001b[38;5;66;03m# Para ir guardando datos en memoria\u001b[39;00m\n\u001b[1;32m----> 2\u001b[0m \u001b[38;5;28;01mfor\u001b[39;00m f \u001b[38;5;129;01min\u001b[39;00m \u001b[43mvideo_paths\u001b[49m[:]:\n\u001b[0;32m      3\u001b[0m     \u001b[38;5;28mprint\u001b[39m(f)\n\u001b[0;32m      4\u001b[0m     step \u001b[38;5;241m=\u001b[39m f[\u001b[38;5;241m0\u001b[39m]\n",
      "\u001b[1;31mNameError\u001b[0m: name 'video_paths' is not defined"
     ]
    }
   ],
   "source": [
    "points_array_deque = deque() # Para ir guardando datos en memoria\n",
    "for f in video_paths[:]:\n",
    "    print(f)\n",
    "    step = f[0]\n",
    "    cap = cv2.VideoCapture(f[1])\n",
    "    right_hand_deque = deque() # estructura optima para ir agregando datos\n",
    "    left_hand_deque = deque() \n",
    "    image_success = True\n",
    "    while cap.isOpened() and image_success:\n",
    "        image_success, image = cap.read()\n",
    "        success, _, right_hand_rows, left_hand_rows = hygine_model.get_landmarks_structure(image_success, image, mode='video', return_image=False)\n",
    "        # if success:\n",
    "        #    cv2.imshow('Paso '+str(f[0]), image)\n",
    "        # if cv2.waitKey(5) & 0xFF == 27:\n",
    "        #    break\n",
    "\n",
    "        if success: # Solo se procesan las que tienen landmarks validos \n",
    "            if hygine_model.verify_hand_rows(right_hand_rows,left_hand_rows):\n",
    "                right_hand_deque.append(hygine_model.get_normalized_rows(right_hand_rows))\n",
    "                left_hand_deque.append(hygine_model.get_normalized_rows(left_hand_rows))\n",
    "            \n",
    "    cap.release()\n",
    "    cv2.destroyAllWindows()\n",
    "    points_array = np.concatenate((np.array(right_hand_deque, dtype=float).reshape((len(right_hand_deque),-1)), \n",
    "                    np.array(left_hand_deque, dtype=float).reshape((len(left_hand_deque),-1)),\n",
    "                    np.ones([len(left_hand_deque),1])*step), axis=1)\n",
    "    points_array_deque.append(points_array)\n",
    "    break"
   ]
  },
  {
   "cell_type": "code",
   "execution_count": null,
   "metadata": {},
   "outputs": [
    {
     "ename": "NameError",
     "evalue": "name 'right_hand_deque' is not defined",
     "output_type": "error",
     "traceback": [
      "\u001b[0;31m---------------------------------------------------------------------------\u001b[0m",
      "\u001b[0;31mNameError\u001b[0m                                 Traceback (most recent call last)",
      "Cell \u001b[0;32mIn [1], line 7\u001b[0m\n\u001b[1;32m      3\u001b[0m \u001b[38;5;28;01mfrom\u001b[39;00m \u001b[38;5;21;01mmatplotlib\u001b[39;00m\u001b[38;5;21;01m.\u001b[39;00m\u001b[38;5;21;01mwidgets\u001b[39;00m \u001b[38;5;28;01mimport\u001b[39;00m Slider\n\u001b[1;32m      4\u001b[0m \u001b[38;5;28;01mimport\u001b[39;00m \u001b[38;5;21;01mnumpy\u001b[39;00m \u001b[38;5;28;01mas\u001b[39;00m \u001b[38;5;21;01mnp\u001b[39;00m\n\u001b[0;32m----> 7\u001b[0m normalized_points \u001b[38;5;241m=\u001b[39m np\u001b[38;5;241m.\u001b[39marray(\u001b[43mright_hand_deque\u001b[49m)\n\u001b[1;32m      9\u001b[0m \u001b[38;5;66;03m# Create the figure and 3D axes\u001b[39;00m\n\u001b[1;32m     10\u001b[0m fig \u001b[38;5;241m=\u001b[39m plt\u001b[38;5;241m.\u001b[39mfigure()\n",
      "\u001b[0;31mNameError\u001b[0m: name 'right_hand_deque' is not defined"
     ]
    }
   ],
   "source": [
    "import matplotlib.pyplot as plt\n",
    "from mpl_toolkits.mplot3d import Axes3D\n",
    "from matplotlib.widgets import Slider\n",
    "import numpy as np\n",
    "\n",
    "\n",
    "normalized_points = np.array(right_hand_deque)\n",
    "\n",
    "# Create the figure and 3D axes\n",
    "fig = plt.figure()\n",
    "ax = fig.add_subplot(111, projection='3d')\n",
    "\n",
    "# Initial timestamp index\n",
    "initial_timestamp_index = 0\n",
    "\n",
    "# Plotting the original points for the initial timestamp\n",
    "scatter = ax.scatter(normalized_points[initial_timestamp_index, :,0], \n",
    "                     normalized_points[initial_timestamp_index, :,1], \n",
    "                     normalized_points[initial_timestamp_index, :,2],\n",
    "                     c='blue', label='Original Points')\n",
    "\n",
    "# Add labels and legend\n",
    "ax.set_xlabel('X')\n",
    "ax.set_ylabel('Y')\n",
    "ax.set_zlabel('Z')\n",
    "ax.legend()\n",
    "\n",
    "# Create a slider axes\n",
    "ax_slider = plt.axes([0.2, 0.01, 0.65, 0.03], facecolor='lightgoldenrodyellow')\n",
    "\n",
    "# Create a slider\n",
    "slider = Slider(ax_slider, 'Timestamp', 0, normalized_points.shape[0] - 1, valinit=initial_timestamp_index, valstep=1)\n",
    "\n",
    "# Update function for the slider\n",
    "def update(val):\n",
    "    timestamp_index = int(slider.val)\n",
    "    \n",
    "    # Update the scatter plot with the new points for the selected timestamp\n",
    "    scatter._offsets3d = (normalized_points[timestamp_index, :,0],\n",
    "                          normalized_points[timestamp_index, :,1],\n",
    "                          normalized_points[timestamp_index, :,2])\n",
    "\n",
    "    # Redraw the plot\n",
    "    fig.canvas.draw_idle()\n",
    "\n",
    "# Connect the slider to the update function\n",
    "slider.on_changed(update)\n",
    "\n",
    "plt.show()"
   ]
  },
  {
   "cell_type": "code",
   "execution_count": null,
   "metadata": {},
   "outputs": [
    {
     "data": {
      "application/vnd.jupyter.widget-view+json": {
       "model_id": "866660e81e1c49d88d612353b54364c7",
       "version_major": 2,
       "version_minor": 0
      },
      "image/png": "[encoded data removed]",
      "text/html": [
       "\n",
       "            <div style=\"display: inline-block;\">\n",
       "                <div class=\"jupyter-widgets widget-label\" style=\"text-align: center;\">\n",
       "                    Figure\n",
       "                </div>\n",
       "                <img src='data:image/png;base64,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' width=640.0/>\n",
       "            </div>\n",
       "        "
      ],
      "text/plain": [
       "Canvas(toolbar=Toolbar(toolitems=[('Home', 'Reset original view', 'home', 'home'), ('Back', 'Back to previous …"
      ]
     },
     "metadata": {},
     "output_type": "display_data"
    }
   ],
   "source": [
    "fig = plt.figure()\n",
    "ax = fig.add_subplot(111, projection='3d')\n",
    "\n",
    "# Plotting the original points\n",
    "ax.scatter(normalized_points[554,:, 0], normalized_points[554,:, 1], normalized_points[554,:, 2], c='blue', label='Original Points')\n",
    "\n",
    "# Plotting the centroid\n",
    "ax.scatter(0,0,0, c='red', marker='X', s=100, label='Centroid')\n",
    "\n",
    "# Adding labels and legend\n",
    "ax.set_xlabel('X-axis')\n",
    "ax.set_ylabel('Y-axis')\n",
    "ax.set_zlabel('Z-axis')\n",
    "ax.legend()\n",
    "\n",
    "# Display the 3D plot\n",
    "plt.show()"
   ]
  },
  {
   "cell_type": "markdown",
   "metadata": {},
   "source": [
    "# DB TO STORE APP DATA"
   ]
  },
  {
   "cell_type": "code",
   "execution_count": null,
   "metadata": {},
   "outputs": [],
   "source": [
    "import sqlite3\n",
    "#conn = sqlite3.connect(r'D:\\Proyectos\\Hands\\HigieneManos\\app\\DataBase\\HandHygiene_database.db')\n",
    "conn = sqlite3.connect('/Users/juannquinones/Library/CloudStorage/OneDrive-ESCUELACOLOMBIANADEINGENIERIAJULIOGARAVITO/Nico/Manos/HigieneManos/app/DataBase/HandHygiene_database.db')\n",
    "cursor = conn.cursor()\n",
    "cursor.execute('''\n",
    "    CREATE TABLE IF NOT EXISTS my_table (\n",
    "        id INTEGER PRIMARY KEY AUTOINCREMENT,\n",
    "        date_time DATETIME,\n",
    "        Step_1 REAL,\n",
    "        Step_2_1 REAL,\n",
    "        Step_2_2 REAL,\n",
    "        Step_3 REAL,\n",
    "        Step_4_1 REAL,\n",
    "        Step_4_2 REAL,\n",
    "        Step_5_1 REAL,\n",
    "        Step_5_2 REAL,\n",
    "        Step_6_1 REAL,\n",
    "        Step_6_2 REAL,\n",
    "        No_Step REAL\n",
    "    )\n",
    "''')\n",
    "\n",
    "# Confirmar los cambios\n",
    "conn.commit()\n",
    "conn.close()"
   ]
  }
 ],
 "metadata": {
  "kernelspec": {
   "display_name": "hands",
   "language": "python",
   "name": "python3"
  },
  "language_info": {
   "codemirror_mode": {
    "name": "ipython",
    "version": 3
   },
   "file_extension": ".py",
   "mimetype": "text/x-python",
   "name": "python",
   "nbconvert_exporter": "python",
   "pygments_lexer": "ipython3",
   "version": "3.9.15"
  }
 },
 "nbformat": 4,
 "nbformat_minor": 2
}
